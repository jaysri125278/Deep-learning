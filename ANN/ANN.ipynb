{
  "nbformat": 4,
  "nbformat_minor": 0,
  "metadata": {
    "colab": {
      "provenance": []
    },
    "kernelspec": {
      "name": "python3",
      "display_name": "Python 3"
    },
    "language_info": {
      "name": "python"
    }
  },
  "cells": [
    {
      "cell_type": "code",
      "execution_count": 2,
      "metadata": {
        "id": "osFdL3FakaAM"
      },
      "outputs": [],
      "source": [
        "!pip install -q keras"
      ]
    },
    {
      "cell_type": "code",
      "source": [
        "import pandas as pd\n",
        "import matplotlib.pyplot as plt\n",
        "import numpy as np\n",
        "dataset = pd.read_csv('/content/Churn_Modelling (1).csv')\n",
        "dataset.head()"
      ],
      "metadata": {
        "colab": {
          "base_uri": "https://localhost:8080/",
          "height": 226
        },
        "id": "jPlafMWPpy0b",
        "outputId": "6a1ac1d7-337b-4fc5-895d-8b562c483251"
      },
      "execution_count": 3,
      "outputs": [
        {
          "output_type": "execute_result",
          "data": {
            "text/plain": [
              "   RowNumber  CustomerId   Surname  CreditScore Geography  Gender  Age  \\\n",
              "0          1    15634602  Hargrave          619    France  Female   42   \n",
              "1          2    15647311      Hill          608     Spain  Female   41   \n",
              "2          3    15619304      Onio          502    France  Female   42   \n",
              "3          4    15701354      Boni          699    France  Female   39   \n",
              "4          5    15737888  Mitchell          850     Spain  Female   43   \n",
              "\n",
              "   Tenure    Balance  NumOfProducts  HasCrCard  IsActiveMember  \\\n",
              "0       2       0.00              1          1               1   \n",
              "1       1   83807.86              1          0               1   \n",
              "2       8  159660.80              3          1               0   \n",
              "3       1       0.00              2          0               0   \n",
              "4       2  125510.82              1          1               1   \n",
              "\n",
              "   EstimatedSalary  Exited  \n",
              "0        101348.88       1  \n",
              "1        112542.58       0  \n",
              "2        113931.57       1  \n",
              "3         93826.63       0  \n",
              "4         79084.10       0  "
            ],
            "text/html": [
              "\n",
              "  <div id=\"df-2bd218f2-863f-4707-aaef-a7be5b89f43f\" class=\"colab-df-container\">\n",
              "    <div>\n",
              "<style scoped>\n",
              "    .dataframe tbody tr th:only-of-type {\n",
              "        vertical-align: middle;\n",
              "    }\n",
              "\n",
              "    .dataframe tbody tr th {\n",
              "        vertical-align: top;\n",
              "    }\n",
              "\n",
              "    .dataframe thead th {\n",
              "        text-align: right;\n",
              "    }\n",
              "</style>\n",
              "<table border=\"1\" class=\"dataframe\">\n",
              "  <thead>\n",
              "    <tr style=\"text-align: right;\">\n",
              "      <th></th>\n",
              "      <th>RowNumber</th>\n",
              "      <th>CustomerId</th>\n",
              "      <th>Surname</th>\n",
              "      <th>CreditScore</th>\n",
              "      <th>Geography</th>\n",
              "      <th>Gender</th>\n",
              "      <th>Age</th>\n",
              "      <th>Tenure</th>\n",
              "      <th>Balance</th>\n",
              "      <th>NumOfProducts</th>\n",
              "      <th>HasCrCard</th>\n",
              "      <th>IsActiveMember</th>\n",
              "      <th>EstimatedSalary</th>\n",
              "      <th>Exited</th>\n",
              "    </tr>\n",
              "  </thead>\n",
              "  <tbody>\n",
              "    <tr>\n",
              "      <th>0</th>\n",
              "      <td>1</td>\n",
              "      <td>15634602</td>\n",
              "      <td>Hargrave</td>\n",
              "      <td>619</td>\n",
              "      <td>France</td>\n",
              "      <td>Female</td>\n",
              "      <td>42</td>\n",
              "      <td>2</td>\n",
              "      <td>0.00</td>\n",
              "      <td>1</td>\n",
              "      <td>1</td>\n",
              "      <td>1</td>\n",
              "      <td>101348.88</td>\n",
              "      <td>1</td>\n",
              "    </tr>\n",
              "    <tr>\n",
              "      <th>1</th>\n",
              "      <td>2</td>\n",
              "      <td>15647311</td>\n",
              "      <td>Hill</td>\n",
              "      <td>608</td>\n",
              "      <td>Spain</td>\n",
              "      <td>Female</td>\n",
              "      <td>41</td>\n",
              "      <td>1</td>\n",
              "      <td>83807.86</td>\n",
              "      <td>1</td>\n",
              "      <td>0</td>\n",
              "      <td>1</td>\n",
              "      <td>112542.58</td>\n",
              "      <td>0</td>\n",
              "    </tr>\n",
              "    <tr>\n",
              "      <th>2</th>\n",
              "      <td>3</td>\n",
              "      <td>15619304</td>\n",
              "      <td>Onio</td>\n",
              "      <td>502</td>\n",
              "      <td>France</td>\n",
              "      <td>Female</td>\n",
              "      <td>42</td>\n",
              "      <td>8</td>\n",
              "      <td>159660.80</td>\n",
              "      <td>3</td>\n",
              "      <td>1</td>\n",
              "      <td>0</td>\n",
              "      <td>113931.57</td>\n",
              "      <td>1</td>\n",
              "    </tr>\n",
              "    <tr>\n",
              "      <th>3</th>\n",
              "      <td>4</td>\n",
              "      <td>15701354</td>\n",
              "      <td>Boni</td>\n",
              "      <td>699</td>\n",
              "      <td>France</td>\n",
              "      <td>Female</td>\n",
              "      <td>39</td>\n",
              "      <td>1</td>\n",
              "      <td>0.00</td>\n",
              "      <td>2</td>\n",
              "      <td>0</td>\n",
              "      <td>0</td>\n",
              "      <td>93826.63</td>\n",
              "      <td>0</td>\n",
              "    </tr>\n",
              "    <tr>\n",
              "      <th>4</th>\n",
              "      <td>5</td>\n",
              "      <td>15737888</td>\n",
              "      <td>Mitchell</td>\n",
              "      <td>850</td>\n",
              "      <td>Spain</td>\n",
              "      <td>Female</td>\n",
              "      <td>43</td>\n",
              "      <td>2</td>\n",
              "      <td>125510.82</td>\n",
              "      <td>1</td>\n",
              "      <td>1</td>\n",
              "      <td>1</td>\n",
              "      <td>79084.10</td>\n",
              "      <td>0</td>\n",
              "    </tr>\n",
              "  </tbody>\n",
              "</table>\n",
              "</div>\n",
              "    <div class=\"colab-df-buttons\">\n",
              "\n",
              "  <div class=\"colab-df-container\">\n",
              "    <button class=\"colab-df-convert\" onclick=\"convertToInteractive('df-2bd218f2-863f-4707-aaef-a7be5b89f43f')\"\n",
              "            title=\"Convert this dataframe to an interactive table.\"\n",
              "            style=\"display:none;\">\n",
              "\n",
              "  <svg xmlns=\"http://www.w3.org/2000/svg\" height=\"24px\" viewBox=\"0 -960 960 960\">\n",
              "    <path d=\"M120-120v-720h720v720H120Zm60-500h600v-160H180v160Zm220 220h160v-160H400v160Zm0 220h160v-160H400v160ZM180-400h160v-160H180v160Zm440 0h160v-160H620v160ZM180-180h160v-160H180v160Zm440 0h160v-160H620v160Z\"/>\n",
              "  </svg>\n",
              "    </button>\n",
              "\n",
              "  <style>\n",
              "    .colab-df-container {\n",
              "      display:flex;\n",
              "      gap: 12px;\n",
              "    }\n",
              "\n",
              "    .colab-df-convert {\n",
              "      background-color: #E8F0FE;\n",
              "      border: none;\n",
              "      border-radius: 50%;\n",
              "      cursor: pointer;\n",
              "      display: none;\n",
              "      fill: #1967D2;\n",
              "      height: 32px;\n",
              "      padding: 0 0 0 0;\n",
              "      width: 32px;\n",
              "    }\n",
              "\n",
              "    .colab-df-convert:hover {\n",
              "      background-color: #E2EBFA;\n",
              "      box-shadow: 0px 1px 2px rgba(60, 64, 67, 0.3), 0px 1px 3px 1px rgba(60, 64, 67, 0.15);\n",
              "      fill: #174EA6;\n",
              "    }\n",
              "\n",
              "    .colab-df-buttons div {\n",
              "      margin-bottom: 4px;\n",
              "    }\n",
              "\n",
              "    [theme=dark] .colab-df-convert {\n",
              "      background-color: #3B4455;\n",
              "      fill: #D2E3FC;\n",
              "    }\n",
              "\n",
              "    [theme=dark] .colab-df-convert:hover {\n",
              "      background-color: #434B5C;\n",
              "      box-shadow: 0px 1px 3px 1px rgba(0, 0, 0, 0.15);\n",
              "      filter: drop-shadow(0px 1px 2px rgba(0, 0, 0, 0.3));\n",
              "      fill: #FFFFFF;\n",
              "    }\n",
              "  </style>\n",
              "\n",
              "    <script>\n",
              "      const buttonEl =\n",
              "        document.querySelector('#df-2bd218f2-863f-4707-aaef-a7be5b89f43f button.colab-df-convert');\n",
              "      buttonEl.style.display =\n",
              "        google.colab.kernel.accessAllowed ? 'block' : 'none';\n",
              "\n",
              "      async function convertToInteractive(key) {\n",
              "        const element = document.querySelector('#df-2bd218f2-863f-4707-aaef-a7be5b89f43f');\n",
              "        const dataTable =\n",
              "          await google.colab.kernel.invokeFunction('convertToInteractive',\n",
              "                                                    [key], {});\n",
              "        if (!dataTable) return;\n",
              "\n",
              "        const docLinkHtml = 'Like what you see? Visit the ' +\n",
              "          '<a target=\"_blank\" href=https://colab.research.google.com/notebooks/data_table.ipynb>data table notebook</a>'\n",
              "          + ' to learn more about interactive tables.';\n",
              "        element.innerHTML = '';\n",
              "        dataTable['output_type'] = 'display_data';\n",
              "        await google.colab.output.renderOutput(dataTable, element);\n",
              "        const docLink = document.createElement('div');\n",
              "        docLink.innerHTML = docLinkHtml;\n",
              "        element.appendChild(docLink);\n",
              "      }\n",
              "    </script>\n",
              "  </div>\n",
              "\n",
              "\n",
              "<div id=\"df-db5ed0ef-01e7-4283-97ad-5d5f4975d39d\">\n",
              "  <button class=\"colab-df-quickchart\" onclick=\"quickchart('df-db5ed0ef-01e7-4283-97ad-5d5f4975d39d')\"\n",
              "            title=\"Suggest charts\"\n",
              "            style=\"display:none;\">\n",
              "\n",
              "<svg xmlns=\"http://www.w3.org/2000/svg\" height=\"24px\"viewBox=\"0 0 24 24\"\n",
              "     width=\"24px\">\n",
              "    <g>\n",
              "        <path d=\"M19 3H5c-1.1 0-2 .9-2 2v14c0 1.1.9 2 2 2h14c1.1 0 2-.9 2-2V5c0-1.1-.9-2-2-2zM9 17H7v-7h2v7zm4 0h-2V7h2v10zm4 0h-2v-4h2v4z\"/>\n",
              "    </g>\n",
              "</svg>\n",
              "  </button>\n",
              "\n",
              "<style>\n",
              "  .colab-df-quickchart {\n",
              "      --bg-color: #E8F0FE;\n",
              "      --fill-color: #1967D2;\n",
              "      --hover-bg-color: #E2EBFA;\n",
              "      --hover-fill-color: #174EA6;\n",
              "      --disabled-fill-color: #AAA;\n",
              "      --disabled-bg-color: #DDD;\n",
              "  }\n",
              "\n",
              "  [theme=dark] .colab-df-quickchart {\n",
              "      --bg-color: #3B4455;\n",
              "      --fill-color: #D2E3FC;\n",
              "      --hover-bg-color: #434B5C;\n",
              "      --hover-fill-color: #FFFFFF;\n",
              "      --disabled-bg-color: #3B4455;\n",
              "      --disabled-fill-color: #666;\n",
              "  }\n",
              "\n",
              "  .colab-df-quickchart {\n",
              "    background-color: var(--bg-color);\n",
              "    border: none;\n",
              "    border-radius: 50%;\n",
              "    cursor: pointer;\n",
              "    display: none;\n",
              "    fill: var(--fill-color);\n",
              "    height: 32px;\n",
              "    padding: 0;\n",
              "    width: 32px;\n",
              "  }\n",
              "\n",
              "  .colab-df-quickchart:hover {\n",
              "    background-color: var(--hover-bg-color);\n",
              "    box-shadow: 0 1px 2px rgba(60, 64, 67, 0.3), 0 1px 3px 1px rgba(60, 64, 67, 0.15);\n",
              "    fill: var(--button-hover-fill-color);\n",
              "  }\n",
              "\n",
              "  .colab-df-quickchart-complete:disabled,\n",
              "  .colab-df-quickchart-complete:disabled:hover {\n",
              "    background-color: var(--disabled-bg-color);\n",
              "    fill: var(--disabled-fill-color);\n",
              "    box-shadow: none;\n",
              "  }\n",
              "\n",
              "  .colab-df-spinner {\n",
              "    border: 2px solid var(--fill-color);\n",
              "    border-color: transparent;\n",
              "    border-bottom-color: var(--fill-color);\n",
              "    animation:\n",
              "      spin 1s steps(1) infinite;\n",
              "  }\n",
              "\n",
              "  @keyframes spin {\n",
              "    0% {\n",
              "      border-color: transparent;\n",
              "      border-bottom-color: var(--fill-color);\n",
              "      border-left-color: var(--fill-color);\n",
              "    }\n",
              "    20% {\n",
              "      border-color: transparent;\n",
              "      border-left-color: var(--fill-color);\n",
              "      border-top-color: var(--fill-color);\n",
              "    }\n",
              "    30% {\n",
              "      border-color: transparent;\n",
              "      border-left-color: var(--fill-color);\n",
              "      border-top-color: var(--fill-color);\n",
              "      border-right-color: var(--fill-color);\n",
              "    }\n",
              "    40% {\n",
              "      border-color: transparent;\n",
              "      border-right-color: var(--fill-color);\n",
              "      border-top-color: var(--fill-color);\n",
              "    }\n",
              "    60% {\n",
              "      border-color: transparent;\n",
              "      border-right-color: var(--fill-color);\n",
              "    }\n",
              "    80% {\n",
              "      border-color: transparent;\n",
              "      border-right-color: var(--fill-color);\n",
              "      border-bottom-color: var(--fill-color);\n",
              "    }\n",
              "    90% {\n",
              "      border-color: transparent;\n",
              "      border-bottom-color: var(--fill-color);\n",
              "    }\n",
              "  }\n",
              "</style>\n",
              "\n",
              "  <script>\n",
              "    async function quickchart(key) {\n",
              "      const quickchartButtonEl =\n",
              "        document.querySelector('#' + key + ' button');\n",
              "      quickchartButtonEl.disabled = true;  // To prevent multiple clicks.\n",
              "      quickchartButtonEl.classList.add('colab-df-spinner');\n",
              "      try {\n",
              "        const charts = await google.colab.kernel.invokeFunction(\n",
              "            'suggestCharts', [key], {});\n",
              "      } catch (error) {\n",
              "        console.error('Error during call to suggestCharts:', error);\n",
              "      }\n",
              "      quickchartButtonEl.classList.remove('colab-df-spinner');\n",
              "      quickchartButtonEl.classList.add('colab-df-quickchart-complete');\n",
              "    }\n",
              "    (() => {\n",
              "      let quickchartButtonEl =\n",
              "        document.querySelector('#df-db5ed0ef-01e7-4283-97ad-5d5f4975d39d button');\n",
              "      quickchartButtonEl.style.display =\n",
              "        google.colab.kernel.accessAllowed ? 'block' : 'none';\n",
              "    })();\n",
              "  </script>\n",
              "</div>\n",
              "\n",
              "    </div>\n",
              "  </div>\n"
            ],
            "application/vnd.google.colaboratory.intrinsic+json": {
              "type": "dataframe",
              "variable_name": "dataset",
              "summary": "{\n  \"name\": \"dataset\",\n  \"rows\": 10000,\n  \"fields\": [\n    {\n      \"column\": \"RowNumber\",\n      \"properties\": {\n        \"dtype\": \"number\",\n        \"std\": 2886,\n        \"min\": 1,\n        \"max\": 10000,\n        \"num_unique_values\": 10000,\n        \"samples\": [\n          6253,\n          4685,\n          1732\n        ],\n        \"semantic_type\": \"\",\n        \"description\": \"\"\n      }\n    },\n    {\n      \"column\": \"CustomerId\",\n      \"properties\": {\n        \"dtype\": \"number\",\n        \"std\": 71936,\n        \"min\": 15565701,\n        \"max\": 15815690,\n        \"num_unique_values\": 10000,\n        \"samples\": [\n          15687492,\n          15736963,\n          15721730\n        ],\n        \"semantic_type\": \"\",\n        \"description\": \"\"\n      }\n    },\n    {\n      \"column\": \"Surname\",\n      \"properties\": {\n        \"dtype\": \"category\",\n        \"num_unique_values\": 2932,\n        \"samples\": [\n          \"McGuirk\",\n          \"Torkelson\",\n          \"Rapuluchukwu\"\n        ],\n        \"semantic_type\": \"\",\n        \"description\": \"\"\n      }\n    },\n    {\n      \"column\": \"CreditScore\",\n      \"properties\": {\n        \"dtype\": \"number\",\n        \"std\": 96,\n        \"min\": 350,\n        \"max\": 850,\n        \"num_unique_values\": 460,\n        \"samples\": [\n          754,\n          533,\n          744\n        ],\n        \"semantic_type\": \"\",\n        \"description\": \"\"\n      }\n    },\n    {\n      \"column\": \"Geography\",\n      \"properties\": {\n        \"dtype\": \"category\",\n        \"num_unique_values\": 3,\n        \"samples\": [\n          \"France\",\n          \"Spain\",\n          \"Germany\"\n        ],\n        \"semantic_type\": \"\",\n        \"description\": \"\"\n      }\n    },\n    {\n      \"column\": \"Gender\",\n      \"properties\": {\n        \"dtype\": \"category\",\n        \"num_unique_values\": 2,\n        \"samples\": [\n          \"Male\",\n          \"Female\"\n        ],\n        \"semantic_type\": \"\",\n        \"description\": \"\"\n      }\n    },\n    {\n      \"column\": \"Age\",\n      \"properties\": {\n        \"dtype\": \"number\",\n        \"std\": 10,\n        \"min\": 18,\n        \"max\": 92,\n        \"num_unique_values\": 70,\n        \"samples\": [\n          61,\n          42\n        ],\n        \"semantic_type\": \"\",\n        \"description\": \"\"\n      }\n    },\n    {\n      \"column\": \"Tenure\",\n      \"properties\": {\n        \"dtype\": \"number\",\n        \"std\": 2,\n        \"min\": 0,\n        \"max\": 10,\n        \"num_unique_values\": 11,\n        \"samples\": [\n          6,\n          2\n        ],\n        \"semantic_type\": \"\",\n        \"description\": \"\"\n      }\n    },\n    {\n      \"column\": \"Balance\",\n      \"properties\": {\n        \"dtype\": \"number\",\n        \"std\": 62397.405202385955,\n        \"min\": 0.0,\n        \"max\": 250898.09,\n        \"num_unique_values\": 6382,\n        \"samples\": [\n          117707.18,\n          133050.97\n        ],\n        \"semantic_type\": \"\",\n        \"description\": \"\"\n      }\n    },\n    {\n      \"column\": \"NumOfProducts\",\n      \"properties\": {\n        \"dtype\": \"number\",\n        \"std\": 0,\n        \"min\": 1,\n        \"max\": 4,\n        \"num_unique_values\": 4,\n        \"samples\": [\n          3,\n          4\n        ],\n        \"semantic_type\": \"\",\n        \"description\": \"\"\n      }\n    },\n    {\n      \"column\": \"HasCrCard\",\n      \"properties\": {\n        \"dtype\": \"number\",\n        \"std\": 0,\n        \"min\": 0,\n        \"max\": 1,\n        \"num_unique_values\": 2,\n        \"samples\": [\n          0,\n          1\n        ],\n        \"semantic_type\": \"\",\n        \"description\": \"\"\n      }\n    },\n    {\n      \"column\": \"IsActiveMember\",\n      \"properties\": {\n        \"dtype\": \"number\",\n        \"std\": 0,\n        \"min\": 0,\n        \"max\": 1,\n        \"num_unique_values\": 2,\n        \"samples\": [\n          0,\n          1\n        ],\n        \"semantic_type\": \"\",\n        \"description\": \"\"\n      }\n    },\n    {\n      \"column\": \"EstimatedSalary\",\n      \"properties\": {\n        \"dtype\": \"number\",\n        \"std\": 57510.49281769816,\n        \"min\": 11.58,\n        \"max\": 199992.48,\n        \"num_unique_values\": 9999,\n        \"samples\": [\n          100809.99,\n          95273.73\n        ],\n        \"semantic_type\": \"\",\n        \"description\": \"\"\n      }\n    },\n    {\n      \"column\": \"Exited\",\n      \"properties\": {\n        \"dtype\": \"number\",\n        \"std\": 0,\n        \"min\": 0,\n        \"max\": 1,\n        \"num_unique_values\": 2,\n        \"samples\": [\n          0,\n          1\n        ],\n        \"semantic_type\": \"\",\n        \"description\": \"\"\n      }\n    }\n  ]\n}"
            }
          },
          "metadata": {},
          "execution_count": 3
        }
      ]
    },
    {
      "cell_type": "code",
      "source": [
        "X = dataset.iloc[:, 3:13]\n",
        "y = dataset.iloc[:, 13]"
      ],
      "metadata": {
        "id": "4AwztReWqFVF"
      },
      "execution_count": 4,
      "outputs": []
    },
    {
      "cell_type": "code",
      "source": [
        "geography = pd.get_dummies(X['Geography'], drop_first = True)\n",
        "gender = pd.get_dummies(X['Gender'], drop_first = True)"
      ],
      "metadata": {
        "id": "bZ4gNelOqcwz"
      },
      "execution_count": 5,
      "outputs": []
    },
    {
      "cell_type": "code",
      "source": [
        "X = pd.concat([X, geography, gender], axis=1)"
      ],
      "metadata": {
        "id": "YlfdA1xwrULn"
      },
      "execution_count": 6,
      "outputs": []
    },
    {
      "cell_type": "code",
      "source": [
        "X = X.drop(['Geography', 'Gender'], axis=1)"
      ],
      "metadata": {
        "id": "KVl6t0BBrs1r"
      },
      "execution_count": 7,
      "outputs": []
    },
    {
      "cell_type": "code",
      "source": [
        "from sklearn.model_selection import train_test_split\n",
        "x_train, x_test, y_train, y_test = train_test_split(X, y, test_size = 0.2, random_state=0)"
      ],
      "metadata": {
        "id": "aWdHQ3SLp9vM"
      },
      "execution_count": 8,
      "outputs": []
    },
    {
      "cell_type": "code",
      "source": [
        "from sklearn.preprocessing import StandardScaler\n",
        "sc = StandardScaler()\n",
        "x_train = sc.fit_transform(x_train)\n",
        "x_test = sc.transform(x_test)"
      ],
      "metadata": {
        "id": "IkXqruVI49lA"
      },
      "execution_count": 9,
      "outputs": []
    },
    {
      "cell_type": "code",
      "source": [
        "import keras\n",
        "from keras.models import Sequential\n",
        "from keras.layers import Dense\n",
        "from keras.layers import LeakyReLU, PReLU, ELU\n",
        "from keras.layers import Dropout"
      ],
      "metadata": {
        "id": "8Pm_RWktz8ar"
      },
      "execution_count": 10,
      "outputs": []
    },
    {
      "cell_type": "code",
      "source": [
        "classifier = Sequential()"
      ],
      "metadata": {
        "id": "sOJY-hDe2zfm"
      },
      "execution_count": 11,
      "outputs": []
    },
    {
      "cell_type": "code",
      "source": [
        "classifier.add(Dense(units=6, activation='relu', kernel_initializer='he_uniform', input_dim=11))\n",
        "classifier.add(Dense(units=6, activation='relu', kernel_initializer='glorot_uniform'))\n",
        "classifier.add(Dense(units=1, activation='sigmoid'))\n",
        "classifier.add(Dropout(0.3))\n",
        "classifier.compile(optimizer='Adamax', loss='binary_crossentropy', metrics=['accuracy'])"
      ],
      "metadata": {
        "id": "8pcedCzQ24e3"
      },
      "execution_count": 12,
      "outputs": []
    },
    {
      "cell_type": "code",
      "source": [
        "classifier.summary()"
      ],
      "metadata": {
        "colab": {
          "base_uri": "https://localhost:8080/"
        },
        "id": "vtw0zDDF5bXh",
        "outputId": "98be2b5b-a2f6-4757-8cf5-c91fb0ccbb07"
      },
      "execution_count": 13,
      "outputs": [
        {
          "output_type": "stream",
          "name": "stdout",
          "text": [
            "Model: \"sequential\"\n",
            "_________________________________________________________________\n",
            " Layer (type)                Output Shape              Param #   \n",
            "=================================================================\n",
            " dense (Dense)               (None, 6)                 72        \n",
            "                                                                 \n",
            " dense_1 (Dense)             (None, 6)                 42        \n",
            "                                                                 \n",
            " dense_2 (Dense)             (None, 1)                 7         \n",
            "                                                                 \n",
            " dropout (Dropout)           (None, 1)                 0         \n",
            "                                                                 \n",
            "=================================================================\n",
            "Total params: 121 (484.00 Byte)\n",
            "Trainable params: 121 (484.00 Byte)\n",
            "Non-trainable params: 0 (0.00 Byte)\n",
            "_________________________________________________________________\n"
          ]
        }
      ]
    },
    {
      "cell_type": "code",
      "source": [
        "model = classifier.fit(x_train, y_train, validation_split=0.33, batch_size=10, epochs=100)"
      ],
      "metadata": {
        "colab": {
          "base_uri": "https://localhost:8080/"
        },
        "id": "ZNHhVC7J3Wn6",
        "outputId": "e1ae9f62-0db0-4dde-cd36-691725d9dd5a"
      },
      "execution_count": 14,
      "outputs": [
        {
          "output_type": "stream",
          "name": "stdout",
          "text": [
            "Epoch 1/100\n",
            "536/536 [==============================] - 3s 3ms/step - loss: 2.9119 - accuracy: 0.3781 - val_loss: 0.7755 - val_accuracy: 0.5430\n",
            "Epoch 2/100\n",
            "536/536 [==============================] - 1s 2ms/step - loss: 2.4557 - accuracy: 0.3853 - val_loss: 0.7474 - val_accuracy: 0.6047\n",
            "Epoch 3/100\n",
            "536/536 [==============================] - 2s 4ms/step - loss: 2.5112 - accuracy: 0.3695 - val_loss: 0.7392 - val_accuracy: 0.6259\n",
            "Epoch 4/100\n",
            "536/536 [==============================] - 2s 4ms/step - loss: 2.3481 - accuracy: 0.3866 - val_loss: 0.7334 - val_accuracy: 0.6448\n",
            "Epoch 5/100\n",
            "536/536 [==============================] - 1s 2ms/step - loss: 2.3376 - accuracy: 0.3814 - val_loss: 0.7287 - val_accuracy: 0.6577\n",
            "Epoch 6/100\n",
            "536/536 [==============================] - 1s 3ms/step - loss: 2.2627 - accuracy: 0.3853 - val_loss: 0.7226 - val_accuracy: 0.6713\n",
            "Epoch 7/100\n",
            "536/536 [==============================] - 2s 3ms/step - loss: 2.2394 - accuracy: 0.3872 - val_loss: 0.7163 - val_accuracy: 0.6842\n",
            "Epoch 8/100\n",
            "536/536 [==============================] - 2s 3ms/step - loss: 2.2588 - accuracy: 0.3823 - val_loss: 0.7109 - val_accuracy: 0.6914\n",
            "Epoch 9/100\n",
            "536/536 [==============================] - 2s 3ms/step - loss: 2.1686 - accuracy: 0.3810 - val_loss: 0.7042 - val_accuracy: 0.7035\n",
            "Epoch 10/100\n",
            "536/536 [==============================] - 1s 2ms/step - loss: 2.2403 - accuracy: 0.3758 - val_loss: 0.6957 - val_accuracy: 0.7164\n",
            "Epoch 11/100\n",
            "536/536 [==============================] - 2s 4ms/step - loss: 2.0941 - accuracy: 0.3801 - val_loss: 0.6822 - val_accuracy: 0.7270\n",
            "Epoch 12/100\n",
            "536/536 [==============================] - 2s 4ms/step - loss: 2.1140 - accuracy: 0.3795 - val_loss: 0.6624 - val_accuracy: 0.7387\n",
            "Epoch 13/100\n",
            "536/536 [==============================] - 1s 3ms/step - loss: 1.9943 - accuracy: 0.4122 - val_loss: 0.6401 - val_accuracy: 0.7433\n",
            "Epoch 14/100\n",
            "536/536 [==============================] - 1s 3ms/step - loss: 1.9388 - accuracy: 0.4527 - val_loss: 0.6166 - val_accuracy: 0.7486\n",
            "Epoch 15/100\n",
            "536/536 [==============================] - 1s 3ms/step - loss: 1.7609 - accuracy: 0.5018 - val_loss: 0.5944 - val_accuracy: 0.7580\n",
            "Epoch 16/100\n",
            "536/536 [==============================] - 1s 3ms/step - loss: 1.6730 - accuracy: 0.5609 - val_loss: 0.5687 - val_accuracy: 0.7686\n",
            "Epoch 17/100\n",
            "536/536 [==============================] - 2s 3ms/step - loss: 1.6140 - accuracy: 0.6167 - val_loss: 0.5420 - val_accuracy: 0.7743\n",
            "Epoch 18/100\n",
            "536/536 [==============================] - 1s 3ms/step - loss: 1.6455 - accuracy: 0.6680 - val_loss: 0.5217 - val_accuracy: 0.7774\n",
            "Epoch 19/100\n",
            "536/536 [==============================] - 2s 3ms/step - loss: 1.5127 - accuracy: 0.7061 - val_loss: 0.5048 - val_accuracy: 0.7834\n",
            "Epoch 20/100\n",
            "536/536 [==============================] - 2s 4ms/step - loss: 1.4901 - accuracy: 0.7227 - val_loss: 0.4937 - val_accuracy: 0.7883\n",
            "Epoch 21/100\n",
            "536/536 [==============================] - 2s 3ms/step - loss: 1.4668 - accuracy: 0.7458 - val_loss: 0.4843 - val_accuracy: 0.7910\n",
            "Epoch 22/100\n",
            "536/536 [==============================] - 1s 3ms/step - loss: 1.4271 - accuracy: 0.7498 - val_loss: 0.4792 - val_accuracy: 0.7933\n",
            "Epoch 23/100\n",
            "536/536 [==============================] - 1s 3ms/step - loss: 1.3255 - accuracy: 0.7654 - val_loss: 0.4774 - val_accuracy: 0.7948\n",
            "Epoch 24/100\n",
            "536/536 [==============================] - 1s 3ms/step - loss: 1.3043 - accuracy: 0.7712 - val_loss: 0.4773 - val_accuracy: 0.7997\n",
            "Epoch 25/100\n",
            "536/536 [==============================] - 1s 2ms/step - loss: 1.2744 - accuracy: 0.7822 - val_loss: 0.4771 - val_accuracy: 0.7989\n",
            "Epoch 26/100\n",
            "536/536 [==============================] - 2s 3ms/step - loss: 1.2837 - accuracy: 0.7858 - val_loss: 0.4772 - val_accuracy: 0.7993\n",
            "Epoch 27/100\n",
            "536/536 [==============================] - 1s 2ms/step - loss: 1.3699 - accuracy: 0.7860 - val_loss: 0.4772 - val_accuracy: 0.7989\n",
            "Epoch 28/100\n",
            "536/536 [==============================] - 2s 3ms/step - loss: 1.2089 - accuracy: 0.7960 - val_loss: 0.4762 - val_accuracy: 0.7993\n",
            "Epoch 29/100\n",
            "536/536 [==============================] - 2s 4ms/step - loss: 1.2602 - accuracy: 0.7899 - val_loss: 0.4761 - val_accuracy: 0.7989\n",
            "Epoch 30/100\n",
            "536/536 [==============================] - 1s 3ms/step - loss: 1.2825 - accuracy: 0.7946 - val_loss: 0.4749 - val_accuracy: 0.7986\n",
            "Epoch 31/100\n",
            "536/536 [==============================] - 1s 3ms/step - loss: 1.2775 - accuracy: 0.7957 - val_loss: 0.4737 - val_accuracy: 0.7986\n",
            "Epoch 32/100\n",
            "536/536 [==============================] - 1s 3ms/step - loss: 1.1458 - accuracy: 0.7960 - val_loss: 0.4701 - val_accuracy: 0.7982\n",
            "Epoch 33/100\n",
            "536/536 [==============================] - 1s 3ms/step - loss: 1.2661 - accuracy: 0.7951 - val_loss: 0.4693 - val_accuracy: 0.7963\n",
            "Epoch 34/100\n",
            "536/536 [==============================] - 1s 3ms/step - loss: 1.2947 - accuracy: 0.7947 - val_loss: 0.4677 - val_accuracy: 0.7948\n",
            "Epoch 35/100\n",
            "536/536 [==============================] - 2s 3ms/step - loss: 1.3155 - accuracy: 0.7944 - val_loss: 0.4671 - val_accuracy: 0.7948\n",
            "Epoch 36/100\n",
            "536/536 [==============================] - 1s 3ms/step - loss: 1.2398 - accuracy: 0.7977 - val_loss: 0.4645 - val_accuracy: 0.7959\n",
            "Epoch 37/100\n",
            "536/536 [==============================] - 2s 4ms/step - loss: 1.3122 - accuracy: 0.7979 - val_loss: 0.4657 - val_accuracy: 0.7959\n",
            "Epoch 38/100\n",
            "536/536 [==============================] - 2s 3ms/step - loss: 1.1848 - accuracy: 0.7992 - val_loss: 0.4592 - val_accuracy: 0.7967\n",
            "Epoch 39/100\n",
            "536/536 [==============================] - 1s 2ms/step - loss: 1.2401 - accuracy: 0.8001 - val_loss: 0.4572 - val_accuracy: 0.7959\n",
            "Epoch 40/100\n",
            "536/536 [==============================] - 1s 3ms/step - loss: 1.2879 - accuracy: 0.8000 - val_loss: 0.4561 - val_accuracy: 0.7978\n",
            "Epoch 41/100\n",
            "536/536 [==============================] - 1s 2ms/step - loss: 1.2327 - accuracy: 0.8015 - val_loss: 0.4550 - val_accuracy: 0.7986\n",
            "Epoch 42/100\n",
            "536/536 [==============================] - 1s 2ms/step - loss: 1.2165 - accuracy: 0.8024 - val_loss: 0.4530 - val_accuracy: 0.7997\n",
            "Epoch 43/100\n",
            "536/536 [==============================] - 2s 3ms/step - loss: 1.1724 - accuracy: 0.8007 - val_loss: 0.4503 - val_accuracy: 0.7997\n",
            "Epoch 44/100\n",
            "536/536 [==============================] - 2s 3ms/step - loss: 1.2521 - accuracy: 0.8031 - val_loss: 0.4504 - val_accuracy: 0.8005\n",
            "Epoch 45/100\n",
            "536/536 [==============================] - 2s 4ms/step - loss: 1.2292 - accuracy: 0.8065 - val_loss: 0.4482 - val_accuracy: 0.8016\n",
            "Epoch 46/100\n",
            "536/536 [==============================] - 2s 4ms/step - loss: 1.2425 - accuracy: 0.8074 - val_loss: 0.4471 - val_accuracy: 0.8008\n",
            "Epoch 47/100\n",
            "536/536 [==============================] - 1s 2ms/step - loss: 1.2313 - accuracy: 0.8097 - val_loss: 0.4466 - val_accuracy: 0.8023\n",
            "Epoch 48/100\n",
            "536/536 [==============================] - 1s 2ms/step - loss: 1.1519 - accuracy: 0.8140 - val_loss: 0.4435 - val_accuracy: 0.8027\n",
            "Epoch 49/100\n",
            "536/536 [==============================] - 2s 3ms/step - loss: 1.2143 - accuracy: 0.8093 - val_loss: 0.4436 - val_accuracy: 0.8031\n",
            "Epoch 50/100\n",
            "536/536 [==============================] - 2s 3ms/step - loss: 1.3049 - accuracy: 0.8113 - val_loss: 0.4450 - val_accuracy: 0.8035\n",
            "Epoch 51/100\n",
            "536/536 [==============================] - 1s 2ms/step - loss: 1.2183 - accuracy: 0.8106 - val_loss: 0.4423 - val_accuracy: 0.8027\n",
            "Epoch 52/100\n",
            "536/536 [==============================] - 1s 2ms/step - loss: 1.2102 - accuracy: 0.8158 - val_loss: 0.4419 - val_accuracy: 0.8027\n",
            "Epoch 53/100\n",
            "536/536 [==============================] - 2s 3ms/step - loss: 1.2161 - accuracy: 0.8147 - val_loss: 0.4388 - val_accuracy: 0.8031\n",
            "Epoch 54/100\n",
            "536/536 [==============================] - 2s 4ms/step - loss: 1.2186 - accuracy: 0.8134 - val_loss: 0.4385 - val_accuracy: 0.8035\n",
            "Epoch 55/100\n",
            "536/536 [==============================] - 2s 3ms/step - loss: 1.1878 - accuracy: 0.8166 - val_loss: 0.4358 - val_accuracy: 0.8039\n",
            "Epoch 56/100\n",
            "536/536 [==============================] - 2s 3ms/step - loss: 1.2236 - accuracy: 0.8132 - val_loss: 0.4371 - val_accuracy: 0.8042\n",
            "Epoch 57/100\n",
            "536/536 [==============================] - 1s 3ms/step - loss: 1.2826 - accuracy: 0.8141 - val_loss: 0.4368 - val_accuracy: 0.8042\n",
            "Epoch 58/100\n",
            "536/536 [==============================] - 2s 4ms/step - loss: 1.3062 - accuracy: 0.8104 - val_loss: 0.4353 - val_accuracy: 0.8042\n",
            "Epoch 59/100\n",
            "536/536 [==============================] - 2s 4ms/step - loss: 1.2554 - accuracy: 0.8182 - val_loss: 0.4346 - val_accuracy: 0.8046\n",
            "Epoch 60/100\n",
            "536/536 [==============================] - 1s 2ms/step - loss: 1.1940 - accuracy: 0.8181 - val_loss: 0.4310 - val_accuracy: 0.8054\n",
            "Epoch 61/100\n",
            "536/536 [==============================] - 2s 4ms/step - loss: 1.2279 - accuracy: 0.8177 - val_loss: 0.4279 - val_accuracy: 0.8065\n",
            "Epoch 62/100\n",
            "536/536 [==============================] - 2s 4ms/step - loss: 1.2231 - accuracy: 0.8210 - val_loss: 0.4282 - val_accuracy: 0.8069\n",
            "Epoch 63/100\n",
            "536/536 [==============================] - 1s 3ms/step - loss: 1.2356 - accuracy: 0.8205 - val_loss: 0.4260 - val_accuracy: 0.8069\n",
            "Epoch 64/100\n",
            "536/536 [==============================] - 1s 2ms/step - loss: 1.2520 - accuracy: 0.8231 - val_loss: 0.4262 - val_accuracy: 0.8069\n",
            "Epoch 65/100\n",
            "536/536 [==============================] - 2s 3ms/step - loss: 1.1069 - accuracy: 0.8272 - val_loss: 0.4224 - val_accuracy: 0.8076\n",
            "Epoch 66/100\n",
            "536/536 [==============================] - 1s 2ms/step - loss: 1.3220 - accuracy: 0.8203 - val_loss: 0.4252 - val_accuracy: 0.8080\n",
            "Epoch 67/100\n",
            "536/536 [==============================] - 2s 3ms/step - loss: 1.1850 - accuracy: 0.8224 - val_loss: 0.4208 - val_accuracy: 0.8076\n",
            "Epoch 68/100\n",
            "536/536 [==============================] - 1s 2ms/step - loss: 1.2999 - accuracy: 0.8248 - val_loss: 0.4213 - val_accuracy: 0.8080\n",
            "Epoch 69/100\n",
            "536/536 [==============================] - 2s 3ms/step - loss: 1.2072 - accuracy: 0.8272 - val_loss: 0.4199 - val_accuracy: 0.8080\n",
            "Epoch 70/100\n",
            "536/536 [==============================] - 2s 4ms/step - loss: 1.2723 - accuracy: 0.8238 - val_loss: 0.4178 - val_accuracy: 0.8084\n",
            "Epoch 71/100\n",
            "536/536 [==============================] - 1s 3ms/step - loss: 1.2129 - accuracy: 0.8257 - val_loss: 0.4192 - val_accuracy: 0.8088\n",
            "Epoch 72/100\n",
            "536/536 [==============================] - 2s 3ms/step - loss: 1.2709 - accuracy: 0.8250 - val_loss: 0.4169 - val_accuracy: 0.8080\n",
            "Epoch 73/100\n",
            "536/536 [==============================] - 2s 3ms/step - loss: 1.1632 - accuracy: 0.8298 - val_loss: 0.4156 - val_accuracy: 0.8080\n",
            "Epoch 74/100\n",
            "536/536 [==============================] - 1s 2ms/step - loss: 1.1649 - accuracy: 0.8274 - val_loss: 0.4123 - val_accuracy: 0.8088\n",
            "Epoch 75/100\n",
            "536/536 [==============================] - 2s 3ms/step - loss: 1.2089 - accuracy: 0.8285 - val_loss: 0.4139 - val_accuracy: 0.8092\n",
            "Epoch 76/100\n",
            "536/536 [==============================] - 1s 2ms/step - loss: 1.2830 - accuracy: 0.8253 - val_loss: 0.4145 - val_accuracy: 0.8099\n",
            "Epoch 77/100\n",
            "536/536 [==============================] - 2s 3ms/step - loss: 1.1686 - accuracy: 0.8291 - val_loss: 0.4111 - val_accuracy: 0.8107\n",
            "Epoch 78/100\n",
            "536/536 [==============================] - 2s 4ms/step - loss: 1.2008 - accuracy: 0.8276 - val_loss: 0.4093 - val_accuracy: 0.8111\n",
            "Epoch 79/100\n",
            "536/536 [==============================] - 2s 3ms/step - loss: 1.2171 - accuracy: 0.8304 - val_loss: 0.4105 - val_accuracy: 0.8111\n",
            "Epoch 80/100\n",
            "536/536 [==============================] - 1s 2ms/step - loss: 1.2230 - accuracy: 0.8311 - val_loss: 0.4088 - val_accuracy: 0.8107\n",
            "Epoch 81/100\n",
            "536/536 [==============================] - 1s 2ms/step - loss: 1.2123 - accuracy: 0.8311 - val_loss: 0.4071 - val_accuracy: 0.8107\n",
            "Epoch 82/100\n",
            "536/536 [==============================] - 2s 3ms/step - loss: 1.1923 - accuracy: 0.8354 - val_loss: 0.4070 - val_accuracy: 0.8107\n",
            "Epoch 83/100\n",
            "536/536 [==============================] - 1s 2ms/step - loss: 1.1898 - accuracy: 0.8343 - val_loss: 0.4049 - val_accuracy: 0.8111\n",
            "Epoch 84/100\n",
            "536/536 [==============================] - 2s 3ms/step - loss: 1.2107 - accuracy: 0.8324 - val_loss: 0.4048 - val_accuracy: 0.8107\n",
            "Epoch 85/100\n",
            "536/536 [==============================] - 1s 2ms/step - loss: 1.1797 - accuracy: 0.8347 - val_loss: 0.4048 - val_accuracy: 0.8111\n",
            "Epoch 86/100\n",
            "536/536 [==============================] - 2s 4ms/step - loss: 1.2111 - accuracy: 0.8356 - val_loss: 0.4055 - val_accuracy: 0.8114\n",
            "Epoch 87/100\n",
            "536/536 [==============================] - 2s 4ms/step - loss: 1.2507 - accuracy: 0.8330 - val_loss: 0.4059 - val_accuracy: 0.8114\n",
            "Epoch 88/100\n",
            "536/536 [==============================] - 2s 3ms/step - loss: 1.2298 - accuracy: 0.8349 - val_loss: 0.4042 - val_accuracy: 0.8111\n",
            "Epoch 89/100\n",
            "536/536 [==============================] - 1s 2ms/step - loss: 1.2187 - accuracy: 0.8347 - val_loss: 0.4047 - val_accuracy: 0.8114\n",
            "Epoch 90/100\n",
            "536/536 [==============================] - 1s 2ms/step - loss: 1.2190 - accuracy: 0.8382 - val_loss: 0.4041 - val_accuracy: 0.8111\n",
            "Epoch 91/100\n",
            "536/536 [==============================] - 1s 2ms/step - loss: 1.2177 - accuracy: 0.8358 - val_loss: 0.4024 - val_accuracy: 0.8118\n",
            "Epoch 92/100\n",
            "536/536 [==============================] - 1s 2ms/step - loss: 1.1913 - accuracy: 0.8345 - val_loss: 0.4020 - val_accuracy: 0.8126\n",
            "Epoch 93/100\n",
            "536/536 [==============================] - 1s 2ms/step - loss: 1.1897 - accuracy: 0.8349 - val_loss: 0.4029 - val_accuracy: 0.8114\n",
            "Epoch 94/100\n",
            "536/536 [==============================] - 1s 2ms/step - loss: 1.2466 - accuracy: 0.8369 - val_loss: 0.4024 - val_accuracy: 0.8107\n",
            "Epoch 95/100\n",
            "536/536 [==============================] - 2s 3ms/step - loss: 1.2203 - accuracy: 0.8364 - val_loss: 0.4020 - val_accuracy: 0.8107\n",
            "Epoch 96/100\n",
            "536/536 [==============================] - 2s 4ms/step - loss: 1.2499 - accuracy: 0.8356 - val_loss: 0.4021 - val_accuracy: 0.8114\n",
            "Epoch 97/100\n",
            "536/536 [==============================] - 2s 3ms/step - loss: 1.1907 - accuracy: 0.8369 - val_loss: 0.3993 - val_accuracy: 0.8111\n",
            "Epoch 98/100\n",
            "536/536 [==============================] - 1s 2ms/step - loss: 1.2270 - accuracy: 0.8367 - val_loss: 0.4002 - val_accuracy: 0.8118\n",
            "Epoch 99/100\n",
            "536/536 [==============================] - 1s 3ms/step - loss: 1.2287 - accuracy: 0.8343 - val_loss: 0.4019 - val_accuracy: 0.8122\n",
            "Epoch 100/100\n",
            "536/536 [==============================] - 1s 3ms/step - loss: 1.1604 - accuracy: 0.8412 - val_loss: 0.3993 - val_accuracy: 0.8126\n"
          ]
        }
      ]
    },
    {
      "cell_type": "code",
      "source": [
        "print(model.history.keys())"
      ],
      "metadata": {
        "colab": {
          "base_uri": "https://localhost:8080/"
        },
        "id": "hlz9w1rg8PFo",
        "outputId": "297efad4-65e1-4558-8e6a-e3f7c8c999c6"
      },
      "execution_count": 15,
      "outputs": [
        {
          "output_type": "stream",
          "name": "stdout",
          "text": [
            "dict_keys(['loss', 'accuracy', 'val_loss', 'val_accuracy'])\n"
          ]
        }
      ]
    },
    {
      "cell_type": "code",
      "source": [
        "plt.plot(model.history['accuracy'])\n",
        "plt.plot(model.history['val_accuracy'])\n",
        "plt.title('model accuracy')\n",
        "plt.ylabel('accuracy')\n",
        "plt.xlabel('epoch')\n",
        "plt.legend(['train', 'test'], loc='upper right')\n",
        "plt.show()"
      ],
      "metadata": {
        "colab": {
          "base_uri": "https://localhost:8080/",
          "height": 472
        },
        "id": "0KTnBwCA67Tv",
        "outputId": "77856a53-623b-45c4-9d4e-b010a60e22bd"
      },
      "execution_count": 16,
      "outputs": [
        {
          "output_type": "display_data",
          "data": {
            "text/plain": [
              "<Figure size 640x480 with 1 Axes>"
            ],
            "image/png": "[encoded data removed]"
          },
          "metadata": {}
        }
      ]
    },
    {
      "cell_type": "code",
      "source": [
        "plt.plot(model.history['loss'])\n",
        "plt.plot(model.history['val_loss'])\n",
        "plt.title('model loss')\n",
        "plt.ylabel('loss')\n",
        "plt.xlabel('epoch')\n",
        "plt.legend(['train', 'test'], loc='upper left')\n",
        "plt.show()"
      ],
      "metadata": {
        "colab": {
          "base_uri": "https://localhost:8080/",
          "height": 472
        },
        "id": "6HiV3a9FXuXN",
        "outputId": "5ef84cee-edc1-4168-ac70-b00c4b6774a4"
      },
      "execution_count": 18,
      "outputs": [
        {
          "output_type": "display_data",
          "data": {
            "text/plain": [
              "<Figure size 640x480 with 1 Axes>"
            ],
            "image/png": "[encoded data removed]"
          },
          "metadata": {}
        }
      ]
    },
    {
      "cell_type": "code",
      "source": [
        "y_pred = classifier.predict(x_test)\n",
        "y_pred = y_pred > 0.5"
      ],
      "metadata": {
        "colab": {
          "base_uri": "https://localhost:8080/"
        },
        "id": "_-UprxVCX9m6",
        "outputId": "e82eed4d-cfd9-4662-dff1-b25b086fa2f2"
      },
      "execution_count": 32,
      "outputs": [
        {
          "output_type": "stream",
          "name": "stdout",
          "text": [
            "63/63 [==============================] - 0s 1ms/step\n"
          ]
        }
      ]
    },
    {
      "cell_type": "code",
      "source": [
        "from sklearn.metrics import accuracy_score\n",
        "accuracy_score(y_test,y_pred)"
      ],
      "metadata": {
        "colab": {
          "base_uri": "https://localhost:8080/"
        },
        "id": "u_UFvShfZEvo",
        "outputId": "f0177720-25d4-45e3-848e-5767f6e47b6e"
      },
      "execution_count": 33,
      "outputs": [
        {
          "output_type": "execute_result",
          "data": {
            "text/plain": [
              "0.8195"
            ]
          },
          "metadata": {},
          "execution_count": 33
        }
      ]
    }
  ]
}